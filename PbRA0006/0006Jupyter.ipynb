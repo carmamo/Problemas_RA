{
 "cells": [
  {
   "cell_type": "code",
   "execution_count": 2,
   "metadata": {},
   "outputs": [
    {
     "name": "stdout",
     "output_type": "stream",
     "text": [
      "Using matplotlib backend: Qt5Agg\n"
     ]
    }
   ],
   "source": [
    "%matplotlib\n",
    "import matplotlib.pyplot as plt\n",
    "import numpy as np\n",
    "import control as ct"
   ]
  },
  {
   "cell_type": "code",
   "execution_count": 3,
   "metadata": {},
   "outputs": [],
   "source": [
    "G=ct.tf([2],[1,2,0,2])"
   ]
  },
  {
   "cell_type": "code",
   "execution_count": 4,
   "metadata": {},
   "outputs": [
    {
     "data": {
      "text/latex": [
       "$$\\frac{2}{s^3 + 2 s^2 + 2}$$"
      ],
      "text/plain": [
       "\n",
       "       2\n",
       "---------------\n",
       "s^3 + 2 s^2 + 2"
      ]
     },
     "execution_count": 4,
     "metadata": {},
     "output_type": "execute_result"
    }
   ],
   "source": [
    "G"
   ]
  },
  {
   "cell_type": "code",
   "execution_count": 5,
   "metadata": {},
   "outputs": [
    {
     "name": "stdout",
     "output_type": "stream",
     "text": [
      "Clicked at     0.3382    +1.261j gain      1.264 damp     -0.259\n",
      "Clicked at     0.3814    -1.432j gain       2.05 damp    -0.2574\n",
      "Clicked at      1.008    -2.581j gain      14.21 damp    -0.3637\n",
      "Clicked at     0.6839    -1.957j gain      6.134 damp    -0.3298\n",
      "Clicked at     -3.032  -0.01971j gain      3.743 damp          1\n",
      "Clicked at     0.4031    +1.425j gain      2.065 damp    -0.2721\n"
     ]
    }
   ],
   "source": [
    "rlist, klist = ct.root_locus(G)"
   ]
  },
  {
   "cell_type": "code",
   "execution_count": null,
   "metadata": {},
   "outputs": [],
   "source": []
  }
 ],
 "metadata": {
  "kernelspec": {
   "display_name": "Python 3",
   "language": "python",
   "name": "python3"
  },
  "language_info": {
   "codemirror_mode": {
    "name": "ipython",
    "version": 3
   },
   "file_extension": ".py",
   "mimetype": "text/x-python",
   "name": "python",
   "nbconvert_exporter": "python",
   "pygments_lexer": "ipython3",
   "version": "3.7.4"
  }
 },
 "nbformat": 4,
 "nbformat_minor": 2
}
